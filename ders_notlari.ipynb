{
 "cells": [
  {
   "cell_type": "code",
   "execution_count": 1,
   "metadata": {},
   "outputs": [],
   "source": [
    "from pymongo import MongoClient\n",
    "\n",
    "client = MongoClient('write here your mongodb url')\n",
    "db = client[\"mydatabase\"]\n",
    "collection = db[\"kisiler\"]"
   ]
  },
  {
   "cell_type": "code",
   "execution_count": 2,
   "metadata": {},
   "outputs": [
    {
     "data": {
      "text/plain": [
       "['database', 'mydatabase', 'admin', 'local']"
      ]
     },
     "execution_count": 2,
     "metadata": {},
     "output_type": "execute_result"
    }
   ],
   "source": [
    "client.list_database_names()"
   ]
  },
  {
   "attachments": {},
   "cell_type": "markdown",
   "metadata": {},
   "source": [
    "#Database`e Kisi Ekleme"
   ]
  },
  {
   "cell_type": "code",
   "execution_count": 3,
   "metadata": {},
   "outputs": [],
   "source": [
    "def add_person(name,email,project,notlar,takipci):\n",
    "    person = {\"name\": name, \"email\": email, \"project\": project, \"notlar\": notlar,'follower':takipci}\n",
    "    collection.insert_one(person)\n"
   ]
  },
  {
   "cell_type": "code",
   "execution_count": 4,
   "metadata": {},
   "outputs": [],
   "source": [
    "\n",
    "project_list={\"python\":[],'javascript':[],'c#':[]}\n",
    "notlar=[5,6,7,9,8]\n",
    "add_person('fatih','fatih@gmail.com',project_list,notlar,525)\n",
    "\n",
    "notlar=[4,7,3,6,4]\n",
    "add_person('ahmet','ahmet@gmail.com',project_list,notlar,400)\n",
    "\n",
    "notlar=[9,10,8,7,9]\n",
    "add_person('fatih','fatih2@gmail.com',project_list,notlar,495)\n",
    "\n",
    "notlar=[7,8,6,5,4]\n",
    "add_person('ayse','ayse@gmail.com',project_list,notlar,600)\n",
    "\n",
    "notlar=[9,8,9,10,8]\n",
    "add_person('elif','elif@gmail.com',project_list,notlar,600)"
   ]
  },
  {
   "cell_type": "code",
   "execution_count": 5,
   "metadata": {},
   "outputs": [
    {
     "data": {
      "text/plain": [
       "['kisiler']"
      ]
     },
     "execution_count": 5,
     "metadata": {},
     "output_type": "execute_result"
    }
   ],
   "source": [
    "db.list_collection_names()"
   ]
  },
  {
   "cell_type": "code",
   "execution_count": 6,
   "metadata": {},
   "outputs": [],
   "source": [
    "#Databasedeki kisilerin projeleri Score ekleme"
   ]
  },
  {
   "cell_type": "code",
   "execution_count": 7,
   "metadata": {},
   "outputs": [],
   "source": [
    "def add_section_to_project(name, project_name, score):\n",
    "    result = collection.find_one({\"name\": name})\n",
    "    if result:\n",
    "        if project_name in result['project']:\n",
    "            result['project'][project_name].extend(score)\n",
    "            collection.update_one({\"name\": name}, {\"$set\": result})\n",
    "        else:\n",
    "            print(f\"{project_name} not found.\")\n",
    "    else:\n",
    "        print(\"User not found.\")\n"
   ]
  },
  {
   "cell_type": "code",
   "execution_count": 8,
   "metadata": {},
   "outputs": [],
   "source": [
    "score=[99,98,97,95,87]\n",
    "add_section_to_project('fatih','python',score)\n",
    "score=[78,75,77,75,73]\n",
    "add_section_to_project('fatih','javascript',score)\n",
    "score=[70,65,67,71,68]\n",
    "add_section_to_project('fatih','c#',score)\n",
    "score=[90,88,87,85,77]\n",
    "add_section_to_project('ahmet','python',score)\n",
    "score=[88,85,87,85,83]\n",
    "add_section_to_project('ahmet','javascript',score)\n",
    "score=[70,67,69,77,78]\n",
    "add_section_to_project('ahmet','c#',score)\n",
    "score=[99,98,100,98,97]\n",
    "add_section_to_project('ayse','python',score)\n",
    "score=[78,85,77,85,93]\n",
    "add_section_to_project('ayse','javascript',score)\n",
    "score=[75,77,87,78,78]\n",
    "add_section_to_project('ayse','c#',score)\n",
    "score=[80,88,77,75,77]\n",
    "add_section_to_project('elif','python',score)\n",
    "score=[98,95,97,95,93]\n",
    "add_section_to_project('elif','javascript',score)\n",
    "score=[76,77,79,77,88]\n",
    "add_section_to_project('elif','c#',score)"
   ]
  },
  {
   "attachments": {},
   "cell_type": "markdown",
   "metadata": {},
   "source": [
    "# Database Sorgu islemleri"
   ]
  },
  {
   "cell_type": "code",
   "execution_count": 9,
   "metadata": {},
   "outputs": [
    {
     "name": "stdout",
     "output_type": "stream",
     "text": [
      "{'_id': ObjectId('6471e7c77b04b2e62e18e03c'), 'name': 'fatih', 'email': 'fatih@gmail.com', 'project': {'python': [99, 98, 97, 95, 87, 99, 98, 97, 95, 87], 'javascript': [78, 75, 77, 75, 73, 78, 75, 77, 75, 73], 'c#': [70, 65, 67, 71, 68, 70, 65, 67, 71, 68]}, 'notlar': [5, 6, 7, 9, 8], 'follower': 525}\n",
      "{'_id': ObjectId('6471e7c87b04b2e62e18e03e'), 'name': 'fatih', 'email': 'fatih2@gmail.com', 'project': {'python': [], 'javascript': [], 'c#': []}, 'notlar': [9, 10, 8, 7, 9], 'follower': 495}\n",
      "{'_id': ObjectId('647300f72eba37732e872178'), 'name': 'fatih', 'email': 'fatih@gmail.com', 'project': {'python': [], 'javascript': [], 'c#': []}, 'notlar': [5, 6, 7, 9, 8], 'follower': 525}\n",
      "{'_id': ObjectId('647300f72eba37732e87217a'), 'name': 'fatih', 'email': 'fatih2@gmail.com', 'project': {'python': [], 'javascript': [], 'c#': []}, 'notlar': [9, 10, 8, 7, 9], 'follower': 495}\n",
      "{'_id': ObjectId('64730131da46e20463eaaa71'), 'name': 'fatih', 'email': 'fatih@gmail.com', 'project': {'python': [], 'javascript': [], 'c#': []}, 'notlar': [5, 6, 7, 9, 8], 'follower': 525}\n",
      "{'_id': ObjectId('64730131da46e20463eaaa73'), 'name': 'fatih', 'email': 'fatih2@gmail.com', 'project': {'python': [], 'javascript': [], 'c#': []}, 'notlar': [9, 10, 8, 7, 9], 'follower': 495}\n"
     ]
    }
   ],
   "source": [
    "def find_person(query):\n",
    "    results = collection.find({\"name\": query})\n",
    "    for result in results:\n",
    "        print(result)\n",
    "\n",
    "find_person(\"fatih\")\n"
   ]
  },
  {
   "cell_type": "code",
   "execution_count": 10,
   "metadata": {},
   "outputs": [
    {
     "name": "stdout",
     "output_type": "stream",
     "text": [
      "{'email': 'fatih@gmail.com'}\n",
      "{'email': 'fatih2@gmail.com'}\n",
      "{'email': 'fatih@gmail.com'}\n",
      "{'email': 'fatih2@gmail.com'}\n",
      "{'email': 'fatih@gmail.com'}\n",
      "{'email': 'fatih2@gmail.com'}\n"
     ]
    }
   ],
   "source": [
    "def find_person(query):\n",
    "    results = collection.find({\"name\": query},{\"_id\":0,'email':1})\n",
    "    for result in results:\n",
    "        print(result)\n",
    "\n",
    "find_person(\"fatih\")"
   ]
  },
  {
   "cell_type": "code",
   "execution_count": 11,
   "metadata": {},
   "outputs": [
    {
     "name": "stdout",
     "output_type": "stream",
     "text": [
      "15\n"
     ]
    }
   ],
   "source": [
    "def count_people():\n",
    "    count = collection.count_documents({})\n",
    "    print(count)\n",
    "\n",
    "count_people()"
   ]
  },
  {
   "cell_type": "code",
   "execution_count": 12,
   "metadata": {},
   "outputs": [
    {
     "name": "stdout",
     "output_type": "stream",
     "text": [
      "{'notlar': [9, 10, 8, 7, 9]}\n",
      "{'notlar': [9, 10, 8, 7, 9]}\n",
      "{'notlar': [9, 10, 8, 7, 9]}\n"
     ]
    }
   ],
   "source": [
    "results = collection.find({\n",
    "                            \"name\": \"fatih\", \n",
    "                            \"email\": \"fatih2@gmail.com\"},\n",
    "                          { \"_id\":0,\n",
    "                            'notlar':1})\n",
    "\n",
    "for result in results:\n",
    "    print(result)"
   ]
  },
  {
   "cell_type": "code",
   "execution_count": 13,
   "metadata": {},
   "outputs": [
    {
     "name": "stdout",
     "output_type": "stream",
     "text": [
      "{'project': {'python': [99, 98, 97, 95, 87, 99, 98, 97, 95, 87]}}\n"
     ]
    }
   ],
   "source": [
    "results = collection.find_one({\n",
    "    \"name\": \"fatih\",\n",
    "    \"project.python\": {\"$exists\": True}\n",
    "},\n",
    "    {\"_id\":0,\n",
    "     'project.python':1})\n",
    "\n",
    "\n",
    "print(results)"
   ]
  },
  {
   "cell_type": "code",
   "execution_count": 14,
   "metadata": {},
   "outputs": [
    {
     "name": "stdout",
     "output_type": "stream",
     "text": [
      "{'project': {'python': [99, 98, 97, 95, 87, 99, 98, 97, 95, 87]}}\n"
     ]
    }
   ],
   "source": [
    "result=collection.find_one({'name':'fatih'},\n",
    "                           {\"_id\":0,'project.python':1})\n",
    "\n",
    "print(result)\n"
   ]
  },
  {
   "attachments": {},
   "cell_type": "markdown",
   "metadata": {},
   "source": [
    "### lt  - Less Than\n",
    "### lte - Less Than Equals\n",
    "### gt  - Greater Than\n",
    "### gte - Greater Than Equals\n",
    "### ne  - Not"
   ]
  },
  {
   "cell_type": "code",
   "execution_count": 15,
   "metadata": {},
   "outputs": [
    {
     "name": "stdout",
     "output_type": "stream",
     "text": [
      "{'_id': ObjectId('6471e7c77b04b2e62e18e03c'), 'name': 'fatih', 'email': 'fatih@gmail.com', 'project': {'python': [99, 98, 97, 95, 87, 99, 98, 97, 95, 87], 'javascript': [78, 75, 77, 75, 73, 78, 75, 77, 75, 73], 'c#': [70, 65, 67, 71, 68, 70, 65, 67, 71, 68]}, 'notlar': [5, 6, 7, 9, 8], 'follower': 525}\n",
      "{'_id': ObjectId('6471e7c87b04b2e62e18e03f'), 'name': 'ayse', 'email': 'ayse@gmail.com', 'project': {'python': [99, 98, 100, 98, 97, 99, 98, 100, 98, 97], 'javascript': [78, 85, 77, 85, 93, 78, 85, 77, 85, 93], 'c#': [75, 77, 87, 78, 78, 75, 77, 87, 78, 78]}, 'notlar': [7, 8, 6, 5, 4], 'follower': 600}\n",
      "{'_id': ObjectId('6471e7c87b04b2e62e18e040'), 'name': 'elif', 'email': 'elif@gmail.com', 'project': {'python': [80, 88, 77, 75, 77, 80, 88, 77, 75, 77], 'javascript': [98, 95, 97, 95, 93, 98, 95, 97, 95, 93], 'c#': [76, 77, 79, 77, 88, 76, 77, 79, 77, 88]}, 'notlar': [9, 8, 9, 10, 8], 'follower': 600}\n",
      "{'_id': ObjectId('647300f72eba37732e872178'), 'name': 'fatih', 'email': 'fatih@gmail.com', 'project': {'python': [], 'javascript': [], 'c#': []}, 'notlar': [5, 6, 7, 9, 8], 'follower': 525}\n",
      "{'_id': ObjectId('647300f72eba37732e87217b'), 'name': 'ayse', 'email': 'ayse@gmail.com', 'project': {'python': [], 'javascript': [], 'c#': []}, 'notlar': [7, 8, 6, 5, 4], 'follower': 600}\n",
      "{'_id': ObjectId('647300f72eba37732e87217c'), 'name': 'elif', 'email': 'elif@gmail.com', 'project': {'python': [], 'javascript': [], 'c#': []}, 'notlar': [9, 8, 9, 10, 8], 'follower': 600}\n",
      "{'_id': ObjectId('64730131da46e20463eaaa71'), 'name': 'fatih', 'email': 'fatih@gmail.com', 'project': {'python': [], 'javascript': [], 'c#': []}, 'notlar': [5, 6, 7, 9, 8], 'follower': 525}\n",
      "{'_id': ObjectId('64730131da46e20463eaaa74'), 'name': 'ayse', 'email': 'ayse@gmail.com', 'project': {'python': [], 'javascript': [], 'c#': []}, 'notlar': [7, 8, 6, 5, 4], 'follower': 600}\n",
      "{'_id': ObjectId('64730131da46e20463eaaa75'), 'name': 'elif', 'email': 'elif@gmail.com', 'project': {'python': [], 'javascript': [], 'c#': []}, 'notlar': [9, 8, 9, 10, 8], 'follower': 600}\n"
     ]
    }
   ],
   "source": [
    "results = collection.find({\"follower\": {\"$gt\": 500}})\n",
    "\n",
    "for result in results:\n",
    "    print(result)"
   ]
  },
  {
   "cell_type": "code",
   "execution_count": 16,
   "metadata": {},
   "outputs": [
    {
     "name": "stdout",
     "output_type": "stream",
     "text": [
      "{'_id': ObjectId('6471e7c77b04b2e62e18e03c'), 'name': 'fatih', 'email': 'fatih@gmail.com', 'project': {'python': [99, 98, 97, 95, 87, 99, 98, 97, 95, 87], 'javascript': [78, 75, 77, 75, 73, 78, 75, 77, 75, 73], 'c#': [70, 65, 67, 71, 68, 70, 65, 67, 71, 68]}, 'notlar': [5, 6, 7, 9, 8], 'follower': 525}\n",
      "{'_id': ObjectId('6471e7c87b04b2e62e18e03d'), 'name': 'ahmet', 'email': 'ahmet@gmail.com', 'project': {'python': [90, 88, 87, 85, 77, 90, 88, 87, 85, 77], 'javascript': [88, 85, 87, 85, 83, 88, 85, 87, 85, 83], 'c#': [70, 67, 69, 77, 78, 70, 67, 69, 77, 78]}, 'notlar': [4, 7, 3, 6, 4], 'follower': 400}\n"
     ]
    }
   ],
   "source": [
    "results = collection.find({\"follower\": {\"$ne\": 500}}).limit(2)\n",
    "\n",
    "for result in results:\n",
    "    print(result)"
   ]
  },
  {
   "cell_type": "code",
   "execution_count": 17,
   "metadata": {},
   "outputs": [
    {
     "name": "stdout",
     "output_type": "stream",
     "text": [
      "{'_id': ObjectId('6471e7c77b04b2e62e18e03c'), 'name': 'fatih', 'email': 'fatih@gmail.com', 'project': {'python': [99, 98, 97, 95, 87, 99, 98, 97, 95, 87], 'javascript': [78, 75, 77, 75, 73, 78, 75, 77, 75, 73], 'c#': [70, 65, 67, 71, 68, 70, 65, 67, 71, 68]}, 'notlar': [5, 6, 7, 9, 8], 'follower': 525}\n",
      "{'_id': ObjectId('6471e7c87b04b2e62e18e03d'), 'name': 'ahmet', 'email': 'ahmet@gmail.com', 'project': {'python': [90, 88, 87, 85, 77, 90, 88, 87, 85, 77], 'javascript': [88, 85, 87, 85, 83, 88, 85, 87, 85, 83], 'c#': [70, 67, 69, 77, 78, 70, 67, 69, 77, 78]}, 'notlar': [4, 7, 3, 6, 4], 'follower': 400}\n",
      "{'_id': ObjectId('6471e7c87b04b2e62e18e03f'), 'name': 'ayse', 'email': 'ayse@gmail.com', 'project': {'python': [99, 98, 100, 98, 97, 99, 98, 100, 98, 97], 'javascript': [78, 85, 77, 85, 93, 78, 85, 77, 85, 93], 'c#': [75, 77, 87, 78, 78, 75, 77, 87, 78, 78]}, 'notlar': [7, 8, 6, 5, 4], 'follower': 600}\n",
      "{'_id': ObjectId('6471e7c87b04b2e62e18e040'), 'name': 'elif', 'email': 'elif@gmail.com', 'project': {'python': [80, 88, 77, 75, 77, 80, 88, 77, 75, 77], 'javascript': [98, 95, 97, 95, 93, 98, 95, 97, 95, 93], 'c#': [76, 77, 79, 77, 88, 76, 77, 79, 77, 88]}, 'notlar': [9, 8, 9, 10, 8], 'follower': 600}\n",
      "{'_id': ObjectId('647300f72eba37732e872178'), 'name': 'fatih', 'email': 'fatih@gmail.com', 'project': {'python': [], 'javascript': [], 'c#': []}, 'notlar': [5, 6, 7, 9, 8], 'follower': 525}\n",
      "{'_id': ObjectId('647300f72eba37732e872179'), 'name': 'ahmet', 'email': 'ahmet@gmail.com', 'project': {'python': [], 'javascript': [], 'c#': []}, 'notlar': [4, 7, 3, 6, 4], 'follower': 400}\n",
      "{'_id': ObjectId('647300f72eba37732e87217b'), 'name': 'ayse', 'email': 'ayse@gmail.com', 'project': {'python': [], 'javascript': [], 'c#': []}, 'notlar': [7, 8, 6, 5, 4], 'follower': 600}\n",
      "{'_id': ObjectId('647300f72eba37732e87217c'), 'name': 'elif', 'email': 'elif@gmail.com', 'project': {'python': [], 'javascript': [], 'c#': []}, 'notlar': [9, 8, 9, 10, 8], 'follower': 600}\n",
      "{'_id': ObjectId('64730131da46e20463eaaa71'), 'name': 'fatih', 'email': 'fatih@gmail.com', 'project': {'python': [], 'javascript': [], 'c#': []}, 'notlar': [5, 6, 7, 9, 8], 'follower': 525}\n",
      "{'_id': ObjectId('64730131da46e20463eaaa72'), 'name': 'ahmet', 'email': 'ahmet@gmail.com', 'project': {'python': [], 'javascript': [], 'c#': []}, 'notlar': [4, 7, 3, 6, 4], 'follower': 400}\n",
      "{'_id': ObjectId('64730131da46e20463eaaa74'), 'name': 'ayse', 'email': 'ayse@gmail.com', 'project': {'python': [], 'javascript': [], 'c#': []}, 'notlar': [7, 8, 6, 5, 4], 'follower': 600}\n",
      "{'_id': ObjectId('64730131da46e20463eaaa75'), 'name': 'elif', 'email': 'elif@gmail.com', 'project': {'python': [], 'javascript': [], 'c#': []}, 'notlar': [9, 8, 9, 10, 8], 'follower': 600}\n"
     ]
    }
   ],
   "source": [
    "results = collection.find({\n",
    "    \"$or\": [\n",
    "        {\"follower\": {\"$gt\": 500}},\n",
    "        {\"name\": \"ahmet\"}\n",
    "    ]\n",
    "})\n",
    "\n",
    "for result in results:\n",
    "    print(result)"
   ]
  },
  {
   "cell_type": "code",
   "execution_count": 18,
   "metadata": {},
   "outputs": [
    {
     "name": "stdout",
     "output_type": "stream",
     "text": [
      "Toplam Takipçi Sayısı: 7860\n"
     ]
    }
   ],
   "source": [
    "pipeline = [\n",
    "    {\"$group\": {\"_id\": None, \"total_followers\": {\"$sum\": \"$follower\"}}}\n",
    "]\n",
    "\n",
    "result = collection.aggregate(pipeline)\n",
    "\n",
    "for doc in result:\n",
    "    total_followers = doc.get(\"total_followers\")\n",
    "    print(\"Toplam Takipçi Sayısı:\", total_followers)"
   ]
  },
  {
   "cell_type": "code",
   "execution_count": 19,
   "metadata": {},
   "outputs": [
    {
     "name": "stdout",
     "output_type": "stream",
     "text": [
      "510.0\n"
     ]
    }
   ],
   "source": [
    "pipeline=[\n",
    "        { \"$match\": { \"name\": 'fatih' } },\n",
    "        { \"$group\": { \"_id\": None, \"averageFollower\": { \"$avg\": \"$follower\" } } }\n",
    "    ]\n",
    "\n",
    "result = collection.aggregate(pipeline)\n",
    "\n",
    "for doc in result:\n",
    "    print(doc[\"averageFollower\"])\n",
    "    \n"
   ]
  },
  {
   "cell_type": "code",
   "execution_count": 20,
   "metadata": {},
   "outputs": [
    {
     "name": "stdout",
     "output_type": "stream",
     "text": [
      "Öğrenci Adı: fatih\n",
      "Notlar: [5, 6, 7, 9, 8]\n",
      "------------------------\n",
      "Öğrenci Adı: ahmet\n",
      "Notlar: [4, 7, 3, 6, 4]\n",
      "------------------------\n",
      "Öğrenci Adı: fatih\n",
      "Notlar: [9, 10, 8, 7, 9]\n",
      "------------------------\n",
      "Öğrenci Adı: ayse\n",
      "Notlar: [7, 8, 6, 5, 4]\n",
      "------------------------\n",
      "Öğrenci Adı: elif\n",
      "Notlar: [9, 8, 9, 10, 8]\n",
      "------------------------\n",
      "Öğrenci Adı: fatih\n",
      "Notlar: [5, 6, 7, 9, 8]\n",
      "------------------------\n",
      "Öğrenci Adı: ahmet\n",
      "Notlar: [4, 7, 3, 6, 4]\n",
      "------------------------\n",
      "Öğrenci Adı: fatih\n",
      "Notlar: [9, 10, 8, 7, 9]\n",
      "------------------------\n",
      "Öğrenci Adı: ayse\n",
      "Notlar: [7, 8, 6, 5, 4]\n",
      "------------------------\n",
      "Öğrenci Adı: elif\n",
      "Notlar: [9, 8, 9, 10, 8]\n",
      "------------------------\n",
      "Öğrenci Adı: fatih\n",
      "Notlar: [5, 6, 7, 9, 8]\n",
      "------------------------\n",
      "Öğrenci Adı: ahmet\n",
      "Notlar: [4, 7, 3, 6, 4]\n",
      "------------------------\n",
      "Öğrenci Adı: fatih\n",
      "Notlar: [9, 10, 8, 7, 9]\n",
      "------------------------\n",
      "Öğrenci Adı: ayse\n",
      "Notlar: [7, 8, 6, 5, 4]\n",
      "------------------------\n",
      "Öğrenci Adı: elif\n",
      "Notlar: [9, 8, 9, 10, 8]\n",
      "------------------------\n"
     ]
    }
   ],
   "source": [
    "all_students_query = collection.find({}, {\"_id\": 0, \"name\": 1, \"notlar\": 1})\n",
    "\n",
    "for student in all_students_query:\n",
    "    print(\"Öğrenci Adı:\", student[\"name\"])\n",
    "    print(\"Notlar:\", student[\"notlar\"])\n",
    "    print(\"------------------------\")\n"
   ]
  },
  {
   "cell_type": "code",
   "execution_count": 21,
   "metadata": {},
   "outputs": [
    {
     "name": "stdout",
     "output_type": "stream",
     "text": [
      "Öğrenci Adı: fatih\n",
      "Notların Ortalaması: 7.0\n",
      "------------------------\n",
      "Öğrenci Adı: ahmet\n",
      "Notların Ortalaması: 4.8\n",
      "------------------------\n",
      "Öğrenci Adı: fatih\n",
      "Notların Ortalaması: 8.6\n",
      "------------------------\n",
      "Öğrenci Adı: ayse\n",
      "Notların Ortalaması: 6.0\n",
      "------------------------\n",
      "Öğrenci Adı: elif\n",
      "Notların Ortalaması: 8.8\n",
      "------------------------\n",
      "Öğrenci Adı: fatih\n",
      "Notların Ortalaması: 7.0\n",
      "------------------------\n",
      "Öğrenci Adı: ahmet\n",
      "Notların Ortalaması: 4.8\n",
      "------------------------\n",
      "Öğrenci Adı: fatih\n",
      "Notların Ortalaması: 8.6\n",
      "------------------------\n",
      "Öğrenci Adı: ayse\n",
      "Notların Ortalaması: 6.0\n",
      "------------------------\n",
      "Öğrenci Adı: elif\n",
      "Notların Ortalaması: 8.8\n",
      "------------------------\n",
      "Öğrenci Adı: fatih\n",
      "Notların Ortalaması: 7.0\n",
      "------------------------\n",
      "Öğrenci Adı: ahmet\n",
      "Notların Ortalaması: 4.8\n",
      "------------------------\n",
      "Öğrenci Adı: fatih\n",
      "Notların Ortalaması: 8.6\n",
      "------------------------\n",
      "Öğrenci Adı: ayse\n",
      "Notların Ortalaması: 6.0\n",
      "------------------------\n",
      "Öğrenci Adı: elif\n",
      "Notların Ortalaması: 8.8\n",
      "------------------------\n"
     ]
    }
   ],
   "source": [
    "average_scores_query = collection.aggregate([\n",
    "    {\n",
    "        \"$addFields\": {\n",
    "            \"name\": \"$name\",\n",
    "            \"average_notlar\": { \"$avg\": \"$notlar\" }\n",
    "        }\n",
    "    }\n",
    "])\n",
    "\n",
    "for result in average_scores_query:\n",
    "    print(\"Öğrenci Adı:\", result[\"name\"])\n",
    "    print(\"Notların Ortalaması:\", result[\"average_notlar\"])\n",
    "    print(\"------------------------\")\n"
   ]
  },
  {
   "cell_type": "code",
   "execution_count": 22,
   "metadata": {},
   "outputs": [
    {
     "name": "stdout",
     "output_type": "stream",
     "text": [
      "Öğrenci Adı: fatih\n",
      "Notların Ortalaması: 7.0\n",
      "------------------------\n",
      "Öğrenci Adı: ahmet\n",
      "Notların Ortalaması: 4.8\n",
      "------------------------\n",
      "Öğrenci Adı: fatih\n",
      "Notların Ortalaması: 8.6\n",
      "------------------------\n",
      "Öğrenci Adı: ayse\n",
      "Notların Ortalaması: 6.0\n",
      "------------------------\n",
      "Öğrenci Adı: elif\n",
      "Notların Ortalaması: 8.8\n",
      "------------------------\n",
      "Öğrenci Adı: fatih\n",
      "Notların Ortalaması: 7.0\n",
      "------------------------\n",
      "Öğrenci Adı: ahmet\n",
      "Notların Ortalaması: 4.8\n",
      "------------------------\n",
      "Öğrenci Adı: fatih\n",
      "Notların Ortalaması: 8.6\n",
      "------------------------\n",
      "Öğrenci Adı: ayse\n",
      "Notların Ortalaması: 6.0\n",
      "------------------------\n",
      "Öğrenci Adı: elif\n",
      "Notların Ortalaması: 8.8\n",
      "------------------------\n",
      "Öğrenci Adı: fatih\n",
      "Notların Ortalaması: 7.0\n",
      "------------------------\n",
      "Öğrenci Adı: ahmet\n",
      "Notların Ortalaması: 4.8\n",
      "------------------------\n",
      "Öğrenci Adı: fatih\n",
      "Notların Ortalaması: 8.6\n",
      "------------------------\n",
      "Öğrenci Adı: ayse\n",
      "Notların Ortalaması: 6.0\n",
      "------------------------\n",
      "Öğrenci Adı: elif\n",
      "Notların Ortalaması: 8.8\n",
      "------------------------\n"
     ]
    }
   ],
   "source": [
    "average_scores_query = collection.aggregate([\n",
    "    {\n",
    "        \"$project\": {\n",
    "            \"_id\": 0,\n",
    "            \"name\": 1,\n",
    "            \"average_notlar\": { \"$avg\": \"$notlar\" }\n",
    "        }\n",
    "    }\n",
    "])\n",
    "\n",
    "for result in average_scores_query:\n",
    "    print(\"Öğrenci Adı:\", result[\"name\"])\n",
    "    print(\"Notların Ortalaması:\", result[\"average_notlar\"])\n",
    "    print(\"------------------------\")"
   ]
  },
  {
   "cell_type": "code",
   "execution_count": 23,
   "metadata": {},
   "outputs": [
    {
     "name": "stdout",
     "output_type": "stream",
     "text": [
      "ahmet 4.8\n",
      "ahmet 4.8\n",
      "ahmet 4.8\n",
      "ayse 6.0\n",
      "ayse 6.0\n",
      "ayse 6.0\n",
      "fatih 7.0\n",
      "fatih 7.0\n",
      "fatih 7.0\n",
      "fatih 8.6\n",
      "fatih 8.6\n",
      "fatih 8.6\n",
      "elif 8.8\n",
      "elif 8.8\n",
      "elif 8.8\n"
     ]
    }
   ],
   "source": [
    "pipeline = [\n",
    "    {\n",
    "        \"$addFields\": {\n",
    "            \"ortalama_notlar\": { \"$avg\": \"$notlar\" }\n",
    "        }\n",
    "    },\n",
    "    {\n",
    "        \"$sort\": {\n",
    "            \"ortalama_notlar\": 1\n",
    "        }\n",
    "    }\n",
    "]\n",
    "\n",
    "result = collection.aggregate(pipeline)\n",
    "for sonuc in result:\n",
    "    print(sonuc['name'], sonuc['ortalama_notlar'])\n"
   ]
  },
  {
   "cell_type": "code",
   "execution_count": 24,
   "metadata": {},
   "outputs": [
    {
     "name": "stdout",
     "output_type": "stream",
     "text": [
      "elif 8.8\n",
      "elif 8.8\n",
      "elif 8.8\n"
     ]
    }
   ],
   "source": [
    "pipeline = [\n",
    "    {\n",
    "        \"$addFields\": {\n",
    "            \"ortalama_notlar\": { \"$avg\": \"$notlar\" }\n",
    "        }\n",
    "    },\n",
    "    {\n",
    "        \"$sort\": {\n",
    "            \"ortalama_notlar\": -1\n",
    "        }\n",
    "    },\n",
    "    {\n",
    "        \"$limit\": 3\n",
    "    }\n",
    "]\n",
    "\n",
    "result = collection.aggregate(pipeline)\n",
    "for sonuc in result:\n",
    "    print(sonuc['name'], sonuc['ortalama_notlar'])\n"
   ]
  },
  {
   "cell_type": "code",
   "execution_count": 25,
   "metadata": {},
   "outputs": [
    {
     "name": "stdout",
     "output_type": "stream",
     "text": [
      "Öğrenci Adı: ahmet\n",
      "Notların Ortalaması: 4.8\n",
      "------------------------\n",
      "Öğrenci Adı: ayse\n",
      "Notların Ortalaması: 6.0\n",
      "------------------------\n",
      "Öğrenci Adı: ahmet\n",
      "Notların Ortalaması: 4.8\n",
      "------------------------\n",
      "Öğrenci Adı: ayse\n",
      "Notların Ortalaması: 6.0\n",
      "------------------------\n",
      "Öğrenci Adı: ahmet\n",
      "Notların Ortalaması: 4.8\n",
      "------------------------\n",
      "Öğrenci Adı: ayse\n",
      "Notların Ortalaması: 6.0\n",
      "------------------------\n"
     ]
    }
   ],
   "source": [
    "pipeline = [\n",
    "    {\n",
    "        \"$addFields\": {\n",
    "            \"average_notlar\": { \"$avg\": \"$notlar\" }\n",
    "        }\n",
    "    },\n",
    "    {\n",
    "        \"$match\": {\n",
    "            \"average_notlar\": { \"$lt\": 7 }\n",
    "        }\n",
    "    }\n",
    "]\n",
    "\n",
    "result = collection.aggregate(pipeline)\n",
    "for doc in result:\n",
    "    print(\"Öğrenci Adı:\", doc[\"name\"])\n",
    "    print(\"Notların Ortalaması:\", doc[\"average_notlar\"])\n",
    "    print(\"------------------------\")\n",
    "\n",
    "\n"
   ]
  },
  {
   "cell_type": "code",
   "execution_count": 26,
   "metadata": {},
   "outputs": [],
   "source": [
    "def not_ekleme(not1):\n",
    "    # fatih'nın kisiler listesini güncelleme\n",
    "    result = collection.find_one({\"name\": \"fatih\"})\n",
    "    if result:\n",
    "        kisiler = result['notlar']\n",
    "        kisiler.append(not1)\n",
    "        collection.update_one({\"name\": \"fatih\"}, {\"$set\": {\"notlar\": kisiler}})\n",
    "    else:\n",
    "        print(\"User not found.\")\n",
    "\n",
    "# Örnek e-posta ekleme\n",
    "not_ekleme(8)\n"
   ]
  }
 ],
 "metadata": {
  "kernelspec": {
   "display_name": "Python 3",
   "language": "python",
   "name": "python3"
  },
  "language_info": {
   "codemirror_mode": {
    "name": "ipython",
    "version": 3
   },
   "file_extension": ".py",
   "mimetype": "text/x-python",
   "name": "python",
   "nbconvert_exporter": "python",
   "pygments_lexer": "ipython3",
   "version": "3.10.6"
  },
  "orig_nbformat": 4
 },
 "nbformat": 4,
 "nbformat_minor": 2
}

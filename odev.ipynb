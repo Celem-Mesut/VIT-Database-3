{
 "cells": [
  {
   "cell_type": "code",
   "execution_count": 19,
   "metadata": {},
   "outputs": [],
   "source": [
    "from pymongo import MongoClient\n",
    "\n",
    "client = MongoClient('change your connect url adress')\n",
    "db = client[\"mydatabase\"]\n",
    "collection = db[\"kisiler\"]"
   ]
  },
  {
   "attachments": {},
   "cell_type": "markdown",
   "metadata": {},
   "source": [
    "Not: Sorulari Mongo querry kodlari kullanarak cozunuz. \n",
    "\n",
    "1. fatih isimli kullanicilari bulunuz"
   ]
  },
  {
   "cell_type": "code",
   "execution_count": 20,
   "metadata": {},
   "outputs": [],
   "source": [
    "results = collection.find({\"name\": \"fatih\"})\n",
    "\n",
    "for result in results:\n",
    "    print(result)\n"
   ]
  },
  {
   "attachments": {},
   "cell_type": "markdown",
   "metadata": {},
   "source": [
    "2. fatih isimli ve email adresi fatih@gmail.com olani bul?"
   ]
  },
  {
   "cell_type": "code",
   "execution_count": 21,
   "metadata": {},
   "outputs": [
    {
     "name": "stdout",
     "output_type": "stream",
     "text": [
      "None\n"
     ]
    }
   ],
   "source": [
    "result = collection.find_one({\"name\": \"fatih\", \"email\": \"fatih@gmail.com\"})\n",
    "\n",
    "print(result)"
   ]
  },
  {
   "attachments": {},
   "cell_type": "markdown",
   "metadata": {},
   "source": [
    "3. isminin bas harfi 's' olan kullanicilari bulunuz"
   ]
  },
  {
   "cell_type": "code",
   "execution_count": 22,
   "metadata": {},
   "outputs": [],
   "source": [
    "result = collection.find({\"name\": {\"$regex\": \"^f\"}})\n",
    "for person in result:\n",
    "    print(person)"
   ]
  },
  {
   "attachments": {},
   "cell_type": "markdown",
   "metadata": {},
   "source": [
    "4. fatih isimli kullanicinin notlarini bulunuz"
   ]
  },
  {
   "cell_type": "code",
   "execution_count": 23,
   "metadata": {},
   "outputs": [],
   "source": [
    "#Yontem 1\n",
    "\n",
    "result = collection.find({\"name\": \"fatih\"}, {\"_id\":0,\"notlar\": 1})\n",
    "\n",
    "for doc in result:\n",
    "    print(doc)\n",
    "\n",
    "#Yontem2\n",
    "result = collection.find({\"name\": \"fatih\"})\n",
    "\n",
    "for document in result:\n",
    "    notlar = document.get(\"notlar\")\n",
    "    print(\"Notlar:\", notlar)\n",
    "\n",
    "\n",
    "#Yontem3\n",
    "result = collection.find({\"name\": \"fatih\"})\n",
    "\n",
    "for doc in result:\n",
    "    print(\"Notlar:\", doc['notlar'])"
   ]
  },
  {
   "attachments": {},
   "cell_type": "markdown",
   "metadata": {},
   "source": [
    "5. \"javascript\" projesinde 80 ile 90 arasında bir nota sahip olan kişileri bulunuz"
   ]
  },
  {
   "cell_type": "code",
   "execution_count": 24,
   "metadata": {},
   "outputs": [],
   "source": [
    "result = collection.find({\"project.javascript\": {\"$elemMatch\": {\"$gte\": 80, \"$lte\": 90}}},\n",
    "                                                 {'_id':0,'name':1,\"project.javascript\":1,'email':1})\n",
    "for person in result:\n",
    "    print(person)"
   ]
  },
  {
   "attachments": {},
   "cell_type": "markdown",
   "metadata": {},
   "source": [
    "6. Ayse'nin 77 olan javascript notunu siliniz."
   ]
  },
  {
   "cell_type": "code",
   "execution_count": 25,
   "metadata": {},
   "outputs": [
    {
     "data": {
      "text/plain": [
       "<pymongo.results.UpdateResult at 0x284ffc95e70>"
      ]
     },
     "execution_count": 25,
     "metadata": {},
     "output_type": "execute_result"
    }
   ],
   "source": [
    "collection.update_one(\n",
    "    {\"name\": \"ayse\"},\n",
    "    {\"$pull\": {\"project.javascript\": 77}}\n",
    ")"
   ]
  },
  {
   "attachments": {},
   "cell_type": "markdown",
   "metadata": {},
   "source": [
    "7. Kullanicilari email adresleri ile birlikte takipci sayilarina gore siralayaniz"
   ]
  },
  {
   "cell_type": "code",
   "execution_count": 26,
   "metadata": {},
   "outputs": [],
   "source": [
    "results = collection.find({},{'_id':0,'name':1,'follower':1,'email':1}).sort(\"follower\")\n",
    "\n",
    "for result in results:\n",
    "    print(result)\n"
   ]
  },
  {
   "attachments": {},
   "cell_type": "markdown",
   "metadata": {},
   "source": [
    "8. Takipci sayisi en yuksek 3 kullaniciyi bulunuz"
   ]
  },
  {
   "cell_type": "code",
   "execution_count": 27,
   "metadata": {},
   "outputs": [],
   "source": [
    "results = collection.find({},{'_id':0,'name':1,'follower':1,'email':1}).sort(\"follower\", -1).limit(3)\n",
    "\n",
    "for result in results:\n",
    "    print(result)"
   ]
  },
  {
   "attachments": {},
   "cell_type": "markdown",
   "metadata": {},
   "source": [
    "9. elifin takipci sayisini 25 arttiriniz?"
   ]
  },
  {
   "cell_type": "code",
   "execution_count": 28,
   "metadata": {},
   "outputs": [],
   "source": [
    "collection.update_one({\"name\": \"elif\"}, {\"$inc\": {\"follower\": 25}})\n",
    "results = collection.find({\"name\": \"elif\"},{'_id':0,'follower':1})\n",
    "\n",
    "for result in results:\n",
    "    print(result)"
   ]
  },
  {
   "attachments": {},
   "cell_type": "markdown",
   "metadata": {},
   "source": [
    "10. butun kullanicilarin takipcilerinin ortalamasini bulunuz"
   ]
  },
  {
   "cell_type": "code",
   "execution_count": 29,
   "metadata": {},
   "outputs": [],
   "source": [
    "pipeline = [\n",
    "    {\"$group\": {\"_id\": None, \"average_followers\": {\"$avg\": \"$follower\"}}}\n",
    "]\n",
    "\n",
    "result = collection.aggregate(pipeline)\n",
    "\n",
    "for doc in result:\n",
    "    average_followers = doc.get(\"average_followers\")\n",
    "    print(\"Takipçi Ortalaması:\", average_followers)\n"
   ]
  },
  {
   "attachments": {},
   "cell_type": "markdown",
   "metadata": {},
   "source": [
    "11. En dusuk notu olan kullaniciyi bulunuz?"
   ]
  },
  {
   "cell_type": "code",
   "execution_count": 30,
   "metadata": {},
   "outputs": [],
   "source": [
    "pipeline = [\n",
    "    {\"$project\": {\"_id\": 0, \"name\": 1, \"email\": 1, \"lowest_score\": {\"$min\": \"$notlar\"}}},\n",
    "    {\"$sort\": {\"lowest_score\": 1}},\n",
    "    {\"$limit\": 1}\n",
    "]\n",
    "\n",
    "result = collection.aggregate(pipeline)\n",
    "\n",
    "for kullanici in result:\n",
    "    print(kullanici)\n"
   ]
  },
  {
   "attachments": {},
   "cell_type": "markdown",
   "metadata": {},
   "source": [
    "12. En yuksek python score u olan ilk 3 kullaniciyi bulunuz?"
   ]
  },
  {
   "cell_type": "code",
   "execution_count": 31,
   "metadata": {},
   "outputs": [],
   "source": [
    "pipeline = [\n",
    "    {\"$project\": {\"_id\": 0, \"name\": 1, \"email\": 1, \"python_score\": {\"$max\": \"$project.python\"}}},\n",
    "    {\"$sort\": {\"python_score\": -1}},\n",
    "    {\"$limit\": 3}\n",
    "]\n",
    "\n",
    "result = collection.aggregate(pipeline)\n",
    "\n",
    "for kullanici in result:\n",
    "    kullanici_adi = kullanici.get(\"name\")\n",
    "    python_skoru = kullanici.get(\"python_score\")\n",
    "    print(f\"{kullanici_adi} - Python Skoru: {python_skoru}\")\n"
   ]
  },
  {
   "attachments": {},
   "cell_type": "markdown",
   "metadata": {},
   "source": [
    "13. Kullanicilarin tum proje(python,javascript,c#) skorlarinin ortalamasini bulup bu ortalamada en iyi 3 kisiyi bulunuz?"
   ]
  },
  {
   "cell_type": "code",
   "execution_count": 32,
   "metadata": {},
   "outputs": [],
   "source": [
    "\n",
    "pipeline = [\n",
    "    {\n",
    "        \"$project\": {\n",
    "            \"_id\": 0,\n",
    "            \"name\": 1,\n",
    "            \"email\": 1,\n",
    "            \"python_avg\": {\"$avg\": \"$project.python\"},\n",
    "            \"javascript_avg\": {\"$avg\": \"$project.javascript\"},\n",
    "            \"csharp_avg\": {\"$avg\": \"$project.csharp\"},\n",
    "            \"total_avg\": {\n",
    "                \"$avg\": [\n",
    "                    {\"$avg\": \"$project.python\"},\n",
    "                    {\"$avg\": \"$project.javascript\"},\n",
    "                    {\"$avg\": \"$project.csharp\"}\n",
    "                ]\n",
    "            }\n",
    "        }\n",
    "    },\n",
    "    {\"$sort\": {\"total_avg\": -1}},\n",
    "    {\"$limit\": 3}\n",
    "]\n",
    "\n",
    "result = collection.aggregate(pipeline)\n",
    "\n",
    "for kullanici in result:\n",
    "    print(f\"Isim: {kullanici['name']}, Toplam ortalama score: {kullanici['total_avg']}\") \n",
    "\n",
    "\n",
    "#2. yontem\n",
    "\n",
    "pipeline = [\n",
    "    {\n",
    "        \"$project\": {\n",
    "            \"_id\": 0,\n",
    "            \"name\": 1,\n",
    "            \"email\": 1,\n",
    "            \"python_avg\": {\"$avg\": \"$project.python\"},\n",
    "            \"javascript_avg\": {\"$avg\": \"$project.javascript\"},\n",
    "            \"csharp_avg\": {\"$avg\": \"$project.csharp\"}\n",
    "        }\n",
    "    },\n",
    "    {\n",
    "        \"$addFields\": {\n",
    "            \"total_avg\": {\n",
    "                \"$avg\": [\"$python_avg\", \"$javascript_avg\", \"$csharp_avg\"]\n",
    "            }\n",
    "        }\n",
    "    },\n",
    "    {\"$sort\": {\"total_avg\": -1}},\n",
    "    {\"$limit\": 3}\n",
    "]\n",
    "\n",
    "result = collection.aggregate(pipeline)\n",
    "\n",
    "for kullanici in result:\n",
    "    print(f\"Isim: {kullanici['name']}, Toplam ortalama score: {kullanici['total_avg']}\") \n",
    "\n",
    "\n"
   ]
  }
 ],
 "metadata": {
  "kernelspec": {
   "display_name": "Python 3",
   "language": "python",
   "name": "python3"
  },
  "language_info": {
   "codemirror_mode": {
    "name": "ipython",
    "version": 3
   },
   "file_extension": ".py",
   "mimetype": "text/x-python",
   "name": "python",
   "nbconvert_exporter": "python",
   "pygments_lexer": "ipython3",
   "version": "3.10.6"
  },
  "orig_nbformat": 4
 },
 "nbformat": 4,
 "nbformat_minor": 2
}
